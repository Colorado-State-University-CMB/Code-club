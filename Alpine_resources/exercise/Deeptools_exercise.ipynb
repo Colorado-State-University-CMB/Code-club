{
 "cells": [
  {
   "cell_type": "markdown",
   "metadata": {},
   "source": [
    "CM515 deepTools Exercise"
   ]
  },
  {
   "cell_type": "markdown",
   "metadata": {},
   "source": [
    "To start, make sure you have copied the files from the course Github repository into your directory. You should have the following files: H3.bw, H4Ac.bw, MNase.bw, PolII_IP.bw, PolII_input.bw, reference.gtf.\n",
    "\n",
    "Each time you download or create a new file, you can check that it was successful using the ls command, which will list all of the files in your directory. (You can also look at your window on the left side to see your files)\n",
    "\n",
    "Test to ensure your files are in your directory:\n",
    "________"
   ]
  },
  {
   "cell_type": "code",
   "execution_count": 3,
   "metadata": {},
   "outputs": [
    {
     "name": "stdout",
     "output_type": "stream",
     "text": [
      "Deeptools_exercise.ipynb  README.md  Untitled.ipynb  modules\n"
     ]
    }
   ],
   "source": [
    "ls"
   ]
  },
  {
   "cell_type": "markdown",
   "metadata": {},
   "source": [
    "________\n",
    "Before we start using deepTools, let's take a look at some of our samples using a genome browser. To do this, download IGV from the following website: https://igv.org/download/html/download.html\n",
    "\n",
    "IGV can open bigwig (.bw) files and let you scroll through them. Open the MNase.bw and H3.bw files and take a scroll! What differences between the two datasets do you see?\n",
    "\n",
    ".....\n",
    "\n",
    "Let's start using deepTools! For your next steps, you will need to activate your deeptools conda environment:\n",
    "__________"
   ]
  },
  {
   "cell_type": "code",
   "execution_count": 2,
   "metadata": {},
   "outputs": [],
   "source": [
    "conda activate deeptools_kernel"
   ]
  },
  {
   "cell_type": "markdown",
   "metadata": {},
   "source": [
    "_______\n",
    "Ensure that deeptools is functioning by testing to see if it will provide a help message:\n",
    "______"
   ]
  },
  {
   "cell_type": "code",
   "execution_count": 8,
   "metadata": {
    "collapsed": true,
    "jupyter": {
     "outputs_hidden": true
    }
   },
   "outputs": [
    {
     "name": "stdout",
     "output_type": "stream",
     "text": [
      "usage: deeptools [-h] [--version]\n",
      "\n",
      "deepTools is a suite of python tools particularly developed for the efficient analysis of\n",
      "high-throughput sequencing data, such as ChIP-seq, RNA-seq or MNase-seq.\n",
      "\n",
      "Each tool should be called by its own name as in the following example:\n",
      "\n",
      " $ bamCoverage -b reads.bam -o coverage.bw\n",
      "\n",
      "If you find deepTools useful for your research please cite as:\n",
      "\n",
      "Ramírez, Fidel, Devon P. Ryan, Björn Grüning, Vivek Bhardwaj, Fabian Kilpert,\n",
      "Andreas S. Richter, Steffen Heyne, Friederike Dündar,\n",
      "and Thomas Manke. 2016. \"deepTools2: A next Generation Web Server for Deep-Sequencing\n",
      "Data Analysis.\" Nucleic Acids Research, April. doi:10.1093/nar/gkw257.\n",
      "\n",
      "[ Tools for BAM and bigWig file processing ]\n",
      "    multiBamSummary         compute read coverages over bam files. Output used for plotCorrelation or plotPCA\n",
      "    multiBigwigSummary      extract scores from bigwig files. Output used for plotCorrelation or plotPCA\n",
      "    correctGCBias           corrects GC bias from bam file. Don't use it with ChIP data\n",
      "    bamCoverage             computes read coverage per bins or regions\n",
      "    bamCompare              computes log2 ratio and other operations of read coverage of two samples per bins or regions\n",
      "    bigwigCompare           computes log2 ratio and other operations from bigwig scores of two samples per bins or regions\n",
      "    computeMatrix           prepares the data from bigwig scores for plotting with plotHeatmap or plotProfile\n",
      "    alignmentSieve          filters BAM alignments according to specified parameters, optionally producing a BEDPE file\n",
      "\n",
      "[ Tools for QC ]\n",
      "    plotCorrelation         plots heatmaps or scatterplots of data correlation\n",
      "    plotPCA                 plots PCA\n",
      "    plotFingerprint         plots the distribution of enriched regions\n",
      "    bamPEFragmentSize       returns the read length and paired-end distance from a bam file\n",
      "    computeGCBias           computes and plots the GC bias of a sample\n",
      "    plotCoverage            plots a histogram of read coverage\n",
      "    estimateReadFiltering   estimates the number of reads that will be filtered from a BAM file or files given certain criteria\n",
      "\n",
      "[Heatmaps and summary plots]\n",
      "    plotHeatmap             plots one or multiple heatmaps of user selected regions over different genomic scores\n",
      "    plotProfile             plots the average profile of user selected regions over different genomic scores\n",
      "    plotEnrichment          plots the read/fragment coverage of one or more sets of regions\n",
      "\n",
      "[Miscellaneous]\n",
      "    computeMatrixOperations Modifies the output of computeMatrix in a variety of ways.\n",
      "\n",
      "For more information visit: http://deeptools.readthedocs.org\n",
      "\n",
      "optional arguments:\n",
      "  -h, --help  show this help message and exit\n",
      "  --version   show program's version number and exit\n"
     ]
    }
   ],
   "source": [
    "deeptools"
   ]
  },
  {
   "cell_type": "markdown",
   "metadata": {},
   "source": [
    "________\n",
    "First, let's look at our MNase-seq data. The first step will be taking our .bw \"histogram\" and converting it into a matrix based on the transcription start sites of all genes in the genome. To do this, we need a reference file that tells us where the genes are. To take a look at our reference file:\n",
    "_______"
   ]
  },
  {
   "cell_type": "code",
   "execution_count": 9,
   "metadata": {},
   "outputs": [
    {
     "name": "stdout",
     "output_type": "stream",
     "text": [
      "chrI\tSteinmetz_2013\ttranscript\t7013\t9049\t.\t-\t.\tgene_id \"ST00001\"; transcript_id \"YAL067C\";\n",
      "chrI\tSteinmetz_2013\ttranscript\t22363\t23633\t.\t-\t.\tgene_id \"ST00002\"; transcript_id \"YAL063C-A\";\n",
      "chrI\tSteinmetz_2013\ttranscript\t28978\t29742\t.\t-\t.\tgene_id \"ST00003\"; transcript_id \"XUT_1R-16\";\n",
      "chrI\tSteinmetz_2013\ttranscript\t31414\t32968\t.\t-\t.\tgene_id \"ST00004\"; transcript_id \"SUT434\";\n",
      "chrI\tSteinmetz_2013\ttranscript\t31695\t34358\t.\t-\t.\tgene_id \"ST00005\"; transcript_id \"XUT_1R-18\";\n",
      "chrI\tSteinmetz_2013\ttranscript\t32939\t34358\t.\t-\t.\tgene_id \"ST00006\"; transcript_id \"SUT435\";\n",
      "chrI\tSteinmetz_2013\ttranscript\t35839\t36359\t.\t-\t.\tgene_id \"ST00007\"; transcript_id \"CUT439\";\n",
      "chrI\tSteinmetz_2013\ttranscript\t42718\t45073\t.\t-\t.\tgene_id \"ST00008\"; transcript_id \"YAL054C\";\n",
      "chrI\tSteinmetz_2013\ttranscript\t51719\t52661\t.\t-\t.\tgene_id \"ST00009\"; transcript_id \"YAL049C\";\n",
      "chrI\tSteinmetz_2013\ttranscript\t54934\t56886\t.\t-\t.\tgene_id \"ST00010\"; transcript_id \"YAL047C\";\n"
     ]
    }
   ],
   "source": [
    "head reference.gtf"
   ]
  },
  {
   "cell_type": "markdown",
   "metadata": {},
   "source": [
    "_____\n",
    "It's convenient to look +/- 1,000 bp (1 kb) on either side of the transcription start site. To make a matrix file using the MNase-seq data:\n",
    "_____"
   ]
  },
  {
   "cell_type": "code",
   "execution_count": 11,
   "metadata": {},
   "outputs": [],
   "source": [
    "computeMatrix reference-point -S MNase.bw -R reference.gtf -a 1000 -b 1000 -o MNase.gz"
   ]
  },
  {
   "cell_type": "markdown",
   "metadata": {},
   "source": [
    "_____\n",
    "Make sure that the matrix file was generated:\n",
    "_____"
   ]
  },
  {
   "cell_type": "code",
   "execution_count": 6,
   "metadata": {},
   "outputs": [
    {
     "name": "stdout",
     "output_type": "stream",
     "text": [
      "Deeptools_exercise.ipynb  MNase.bw  PolII_IP.bw     Untitled.ipynb\n",
      "H3.bw\t\t\t  MNase.gz  PolII_input.bw  modules\n",
      "H4Ac.bw\t\t\t  PolII.bw  README.md\t    reference.gtf\n"
     ]
    }
   ],
   "source": [
    "ls"
   ]
  },
  {
   "cell_type": "markdown",
   "metadata": {},
   "source": [
    "_____\n",
    "The matrix file is all that is needed to make heatmaps and metaplots! Let's start with a metaplot:\n",
    "_____"
   ]
  },
  {
   "cell_type": "code",
   "execution_count": 7,
   "metadata": {},
   "outputs": [],
   "source": [
    "plotProfile -m MNase.gz -o MNase_metaplot.png"
   ]
  },
  {
   "cell_type": "markdown",
   "metadata": {},
   "source": [
    "_____\n",
    "Double-click on the MNase_metaplot.png file you just generated on the left side of your screen. It should open in a new tab. Pretty cool!\n",
    "\n",
    "Next, let's create a heatmap:\n",
    "_____"
   ]
  },
  {
   "cell_type": "code",
   "execution_count": null,
   "metadata": {},
   "outputs": [],
   "source": [
    "plotHeatmap -m MNase.gz -o MNase_heatmap.png"
   ]
  },
  {
   "cell_type": "markdown",
   "metadata": {},
   "source": [
    "_____\n",
    "Double-click on the MNase_heatmap.png file to open it in a new tab. How are the genes ordered in the heatmap? What does the heatmap show that the metaplot doesn't? \n",
    "\n",
    "Next, let's compare our MNase-seq data to histone H3 ChIP-seq. First, we will need to make a matrix file of the H3 ChIP-seq data:\n",
    "____"
   ]
  },
  {
   "cell_type": "code",
   "execution_count": 3,
   "metadata": {},
   "outputs": [],
   "source": [
    "computeMatrix reference-point -S H3.bw -R reference.gtf -a 1000 -b 1000 -o H3.gz"
   ]
  },
  {
   "cell_type": "markdown",
   "metadata": {},
   "source": [
    "____\n",
    "Check that the H3.gz file was generated:\n",
    "____"
   ]
  },
  {
   "cell_type": "code",
   "execution_count": null,
   "metadata": {},
   "outputs": [],
   "source": [
    "ls"
   ]
  },
  {
   "cell_type": "markdown",
   "metadata": {},
   "source": [
    "____\n",
    "Next, let's make metaplots and heatmaps of the H3 ChIP-seq data:\n",
    "____"
   ]
  },
  {
   "cell_type": "code",
   "execution_count": 4,
   "metadata": {},
   "outputs": [],
   "source": [
    "plotProfile -m H3.gz -o H3_metaplot.png"
   ]
  },
  {
   "cell_type": "code",
   "execution_count": 5,
   "metadata": {},
   "outputs": [],
   "source": [
    "plotHeatmap -m H3.gz -o H3_heatmap.png"
   ]
  },
  {
   "cell_type": "markdown",
   "metadata": {},
   "source": [
    "_____\n",
    "Open the .png files you just created. How does the MNase-seq data compare to the H3 ChIP-seq data?\n",
    "\n",
    "......\n",
    "\n",
    "Let's move to the next exercise! For this, we'll be looking at RNA Polymerase II (PolII) ChIP-seq data in detail. \n",
    "\n",
    "ChIP-seq experiments involve an immunoprecipation (IP) step. To normalize our IP data, it is important to also sequence the input, which is sonicated chromatin that has not been subjected to IP. Before continuing, open the PolII_IP.bw and PolII_input.bw samples in IGV. What features does each sample have?\n",
    "\n",
    "Next, let's normalize the IP to the input. The default in deepTools is to take the log2 ratio of the IP to input:\n",
    "____"
   ]
  },
  {
   "cell_type": "code",
   "execution_count": 3,
   "metadata": {},
   "outputs": [],
   "source": [
    "bigwigCompare -b1 PolII_IP.bw -b2 PolII_input.bw -o PolII.bw"
   ]
  },
  {
   "cell_type": "markdown",
   "metadata": {},
   "source": [
    "____\n",
    "Check to make sure the file was created:\n",
    "____"
   ]
  },
  {
   "cell_type": "code",
   "execution_count": null,
   "metadata": {},
   "outputs": [],
   "source": [
    "ls"
   ]
  },
  {
   "cell_type": "markdown",
   "metadata": {},
   "source": [
    "_____\n",
    "Open the new PolII.bw file in IGV. How does it compare to the IP and Input files?\n",
    "\n",
    "Next, let's make a matrix file of the PolII data. To focus on genes, we'll look at a tigher genome window than last time, 0.5 kb to 1 kb:\n",
    "_____"
   ]
  },
  {
   "cell_type": "code",
   "execution_count": 4,
   "metadata": {},
   "outputs": [],
   "source": [
    "computeMatrix reference-point -S PolII.bw -R reference.gtf -a 1000 -b 500 -o PolII.gz"
   ]
  },
  {
   "cell_type": "markdown",
   "metadata": {},
   "source": [
    "_____\n",
    "Check to make sure the file was created:\n",
    "_____"
   ]
  },
  {
   "cell_type": "code",
   "execution_count": null,
   "metadata": {},
   "outputs": [],
   "source": [
    "ls"
   ]
  },
  {
   "cell_type": "markdown",
   "metadata": {},
   "source": [
    "_____\n",
    "Let's see what the PolII data look like by making a heatmap:\n",
    "_____"
   ]
  },
  {
   "cell_type": "code",
   "execution_count": 5,
   "metadata": {},
   "outputs": [],
   "source": [
    "plotHeatmap -m PolII.gz -o PolII_heatmap.png"
   ]
  },
  {
   "cell_type": "markdown",
   "metadata": {},
   "source": [
    "_____\n",
    "Open the PolII_heatmap.png file you just generated. What do you see?\n",
    "\n",
    "deepTools automatically sets the scale for heatmaps, which sometimes can be misleading. What happens if we adjust the scale in this way?:\n",
    "_____"
   ]
  },
  {
   "cell_type": "code",
   "execution_count": 8,
   "metadata": {},
   "outputs": [],
   "source": [
    "plotHeatmap -m PolII.gz -o PolII_heatmap_new_scale.png --zMin 0.2 --zMax 1"
   ]
  },
  {
   "cell_type": "markdown",
   "metadata": {},
   "source": [
    "_____\n",
    "How does changing the scale affect the appearance of the data? Does it change your interpretation?\n",
    "\n",
    "A symmetrical scale that puts 0 in the middle gives the most fair representation of the data. Change the scale in the command above so that the scale will be symmetrical, from -1 to 1. Make sure to change the name of the output file! Now, how does this scale affect your interpretation of the data?\n",
    "\n",
    ".....\n",
    "\n",
    "Next, let's compare the PolII ChIP-seq data to the H3 ChIP-seq data. To compare samples directly in deepTools, we can \"cbind\" matrix files together. In order to combine matrix files, however, we first need to make sure the size of our matrices are the same. To do this, let's make a new H3 ChIP-seq matrix file that goes from 0.5 to 1 kb on either side of the transcription start site. Below is the code that we used last time to make the H3 matrix file. Change the code so that the new file starts at 500 bp:\n",
    "_____"
   ]
  },
  {
   "cell_type": "code",
   "execution_count": 10,
   "metadata": {},
   "outputs": [],
   "source": [
    "computeMatrix reference-point -S H3.bw -R reference.gtf -a 1000 -b 1000 -o H3.gz"
   ]
  },
  {
   "cell_type": "markdown",
   "metadata": {},
   "source": [
    "_____\n",
    "Now that we have matrix files for both H3 and PolII with the same dimensions, we can combine the matrixes together using cbind:\n",
    "_____"
   ]
  },
  {
   "cell_type": "code",
   "execution_count": 11,
   "metadata": {},
   "outputs": [],
   "source": [
    "computeMatrixOperations cbind -m PolII.gz H3.gz -o PolII_H3_combined.gz"
   ]
  },
  {
   "cell_type": "markdown",
   "metadata": {},
   "source": [
    "_____\n",
    "Now that the matrix files are combined, we can create a metaplot of the combined data. The --perGroup command is required to plot both datasets on the same graph\n",
    "_____"
   ]
  },
  {
   "cell_type": "code",
   "execution_count": 12,
   "metadata": {},
   "outputs": [],
   "source": [
    "plotProfile -m PolII_H3_combined.gz -o PolII_H3_combined_metaplot.png --perGroup"
   ]
  },
  {
   "cell_type": "markdown",
   "metadata": {},
   "source": [
    "_____\n",
    "Open the metaplot. What does this tell you about PolII and H3?\n",
    "\n",
    "Next, let's make a heatmap:\n",
    "_____"
   ]
  },
  {
   "cell_type": "code",
   "execution_count": 18,
   "metadata": {},
   "outputs": [],
   "source": [
    "plotHeatmap -m PolII_H3_combined.gz -o PolII_H3_combined_heatmap.png"
   ]
  },
  {
   "cell_type": "markdown",
   "metadata": {},
   "source": [
    "_____\n",
    "The default setting in deepTools when plotting multiple matrices in a heatmap is to order genes based on the total enrichment across samples. To order the genes based on the enrichment in the PolII sample:\n",
    "_____"
   ]
  },
  {
   "cell_type": "code",
   "execution_count": 20,
   "metadata": {},
   "outputs": [
    {
     "name": "stdout",
     "output_type": "stream",
     "text": [
      "Samples used for ordering within each group:  [1]\n"
     ]
    }
   ],
   "source": [
    "plotHeatmap -m PolII_H3_combined.gz -o PolII_H3_combined_heatmap_sorted_by_PolII.png --sortUsingSample 1"
   ]
  },
  {
   "cell_type": "markdown",
   "metadata": {},
   "source": [
    "_____\n",
    "Change the code above so that you are now sorting by H3. Make sure to change the name of the output file!\n",
    "\n",
    "Open all three of your heatmaps and look at them side-by-side. What do the different sorting patterns tell you about the relationship between PolII and H3?\n",
    "\n",
    ".....\n",
    "\n",
    "Okay, let's try out some of your new skills! For the next section, you will be examining the relationship between transcription and histone acetylation by comparing the PolII ChIP-seq data with histone H4 acetylation (H4Ac) ChIP-seq. For each step, I'll let you know what to do but let you figure out the code yourself! Tip: copy and pasting similar code and adjusting it slightly to fit the right files may help avoid typos.\n",
    "\n",
    "For the first step, you will need to use the H4Ac.bw file to create an H4Ac matrix file that goes from 500 bp to 1000 bp around the transcription start sites:\n",
    "_____"
   ]
  },
  {
   "cell_type": "code",
   "execution_count": null,
   "metadata": {},
   "outputs": [],
   "source": []
  },
  {
   "cell_type": "markdown",
   "metadata": {},
   "source": [
    "_____\n",
    "Next, you will need to combine the PolII and H4Ac matrix files together:\n",
    "_____"
   ]
  },
  {
   "cell_type": "code",
   "execution_count": null,
   "metadata": {},
   "outputs": [],
   "source": []
  },
  {
   "cell_type": "markdown",
   "metadata": {},
   "source": [
    "_____\n",
    "Next, plot a heatmap of the combined PolII and H4Ac matrix files:\n",
    "____"
   ]
  },
  {
   "cell_type": "code",
   "execution_count": null,
   "metadata": {},
   "outputs": [],
   "source": []
  },
  {
   "cell_type": "markdown",
   "metadata": {},
   "source": [
    "_____\n",
    "What do the heatmaps tell you about the relationship between PolII and H4Ac? \n",
    "\n",
    "To get a better idea of the relationships between transcription and histone acetylation, make heatmaps sorting by each sample (making sure to change the name of your output file each time!):\n",
    "____"
   ]
  },
  {
   "cell_type": "code",
   "execution_count": null,
   "metadata": {},
   "outputs": [],
   "source": []
  },
  {
   "cell_type": "code",
   "execution_count": null,
   "metadata": {},
   "outputs": [],
   "source": []
  },
  {
   "cell_type": "markdown",
   "metadata": {},
   "source": [
    "_____\n",
    "Another way you can get a detailed view of relationships in plotHeatmap is through hierarchical clustering. To cluster your samples, run the plotHeatmap command as above, but to the end add --hclust followed by the number of clusters you want to see. Play around with the number of clusters to see what you can find out!\n",
    "_____"
   ]
  },
  {
   "cell_type": "code",
   "execution_count": null,
   "metadata": {},
   "outputs": [],
   "source": []
  },
  {
   "cell_type": "code",
   "execution_count": null,
   "metadata": {},
   "outputs": [],
   "source": []
  },
  {
   "cell_type": "code",
   "execution_count": null,
   "metadata": {},
   "outputs": [],
   "source": []
  },
  {
   "cell_type": "code",
   "execution_count": null,
   "metadata": {},
   "outputs": [],
   "source": []
  },
  {
   "cell_type": "code",
   "execution_count": null,
   "metadata": {},
   "outputs": [],
   "source": []
  },
  {
   "cell_type": "markdown",
   "metadata": {},
   "source": [
    "_____\n",
    "As you can see, deepTools is a powerful and fun way to analyze genomics data! This exercise has been a quick glimpse at what deepTools can do, but it's capable of a lot more. For more information, consult the deepTools website: https://deeptools.readthedocs.io/en/develop/index.html\n",
    "_____"
   ]
  }
 ],
 "metadata": {
  "kernelspec": {
   "display_name": "deeptools_kernel",
   "language": "bash",
   "name": "deeptools_kernel"
  },
  "language_info": {
   "codemirror_mode": "shell",
   "file_extension": ".sh",
   "mimetype": "text/x-sh",
   "name": "bash"
  }
 },
 "nbformat": 4,
 "nbformat_minor": 4
}
