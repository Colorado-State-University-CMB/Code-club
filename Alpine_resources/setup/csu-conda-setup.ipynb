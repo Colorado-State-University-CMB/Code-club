{
 "cells": [
  {
   "cell_type": "markdown",
   "metadata": {},
   "source": [
    "### ***Only run this notebook if you haven't done any conda setup yet***\n",
    "\n",
    "Otherwise it will overwrite your existing installation settings.\n",
    "\n",
    "If you are unsure, ***click on the number in brackets to the left of the grey box below*** and run it with **CTRL-ENTER**. Do not type in the grey box.\n"
   ]
  },
  {
   "cell_type": "code",
   "execution_count": 1,
   "metadata": {},
   "outputs": [
    {
     "name": "stdout",
     "output_type": "stream",
     "text": [
      "Your .condarc has already been configured and\n",
      "\n",
      "\u001b[1mYou don't need to continue.\u001b[0m You can close this notebook now.\n"
     ]
    }
   ],
   "source": [
    "# run this to check if your conda environment needs to be modified\n",
    "flag=\"\"\n",
    "if conda config --get pkgs_dirs 2>&1 | grep -q 'unknown key' || conda config --get envs_dirs 2>&1 | grep -q 'unknown key'\n",
    "then\n",
    "    echo -e \"At least one of your directory settings isn't configured.\\n\\n\\033[1mContinue with this setup\\033[0m\"\n",
    "else\n",
    "    echo -e \"Your .condarc has already been configured and\\n\\n\\033[1mYou don't need to continue.\\033[0m You can close this notebook now.\"\n",
    "fi"
   ]
  },
  {
   "cell_type": "markdown",
   "metadata": {},
   "source": [
    "## CSU users\n",
    "\n",
    "Check for special directory if you are doing RNA-seq analysis with hisat2.\n",
    "\n",
    "\n",
    " ***click on the number in brackets to the left of the grey box below*** and run it with **CTRL-ENTER**. Do not type in the grey box."
   ]
  },
  {
   "cell_type": "code",
   "execution_count": 2,
   "metadata": {},
   "outputs": [
    {
     "name": "stdout",
     "output_type": "stream",
     "text": [
      "\n",
      "\u001b[1mYou are good to install normally.\u001b[0m\n",
      "\n",
      "\n",
      "FYI: Your installation destination will be set to \u001b[1m/projects/.colostate.edu/dcking\u001b[0m if you wish to continue.\n",
      "\n"
     ]
    }
   ],
   "source": [
    "PROJ_DIR=/projects/$USER\n",
    "EID=${USER%%@*}\n",
    "# check if the non-@ projects link has been made\n",
    "if [ -e /projects/.colostate.edu/${EID} ]\n",
    "then\n",
    "    PROJ_DIR=/projects/.colostate.edu/${EID}\n",
    "    echo\n",
    "    echo -e \"\\033[1mYou are good to install normally.\\033[0m\"\n",
    "    echo\n",
    "else\n",
    "    echo\n",
    "    echo -e \"\\033[1mThey did not make a projects link for you, see the note below to request it.\\033[0m\"\n",
    "    echo -e \"\\033[1mAgain\\033[0m -probably not a problem if you don't need hisat2.\"\n",
    "    echo\n",
    "fi\n",
    "\n",
    "echo\n",
    "echo -e \"FYI: Your installation destination will be set to \\033[1m$PROJ_DIR\\033[0m if you wish to continue.\"\n",
    "echo"
   ]
  },
  {
   "cell_type": "markdown",
   "metadata": {},
   "source": [
    "\n",
    "\n",
    "\n",
    "---\n",
    "\n",
    "#### If the note above says \"You are good to install normally.\" \n",
    "\n",
    "Then proceed to the next step beginning with **\"Change the conda setup...\"**\n",
    "\n",
    "#### *However, if there is a note above about requesting a projects link*, make the following request in an email to rc-help@colostate.edu.\n",
    "\n",
    "> Please make a symbolic link from my default projects directory to /projects/.colostate.edu so my username doesn't cause issues with installation.\n",
    "> Thank you.\n",
    "\n",
    "You may continue with installation if you don't need `hisat2`. You can also recreate your environment after they make the link for you.\n",
    "\n",
    "\n",
    "\n",
    "---\n",
    "\n",
    "\n"
   ]
  },
  {
   "cell_type": "markdown",
   "metadata": {},
   "source": [
    "### Change the conda setup to point to the projects directory set above\n",
    "\n",
    "***click on the number in brackets to the left of the grey box below*** and run it with **CTRL-ENTER**. Check for output beneath the grey box."
   ]
  },
  {
   "cell_type": "code",
   "execution_count": 3,
   "metadata": {},
   "outputs": [
    {
     "name": "stdout",
     "output_type": "stream",
     "text": [
      "pkgs_dirs is fine\n",
      "envs_dirs is fine\n"
     ]
    }
   ],
   "source": [
    "# delete old settings if they exist, otherwise they will duplicate in the .condarc file\n",
    "conda config --remove-key pkgs_dirs\n",
    "conda config --remove-key envs_dirs\n",
    "\n",
    "# change settings\n",
    "conda config --add pkgs_dirs $PROJ_DIR/.conda_pkgs\n",
    "conda config --add envs_dirs $PROJ_DIR/software/anaconda/envs\n",
    "\n",
    "# confirm setting\n",
    "if conda config --get pkgs_dirs | grep -q \"$PROJ_DIR/.conda_pkgs\" \n",
    "then\n",
    "    echo \"pkgs_dirs is fine\"\n",
    "else\n",
    "    echo \"problem with pkgs_dirs\"\n",
    "fi \n",
    "\n",
    "if conda config --get envs_dirs | grep -q \"$PROJ_DIR/software/anaconda/envs\" \n",
    "then\n",
    "    echo \"envs_dirs is fine\"\n",
    "fi"
   ]
  },
  {
   "cell_type": "markdown",
   "metadata": {},
   "source": [
    "### If you saw the following:\n",
    "\n",
    "```\n",
    "pkgs_dirs is fine\n",
    "envs_dirs is fine\n",
    "```\n",
    "\n",
    "**as output above, you are ready to create conda environments and can close this notebook.**\n",
    "\n",
    "\n",
    "Otherwise contact rc-help@colostate.edu or the provider of this configuration notebook."
   ]
  }
 ],
 "metadata": {
  "kernelspec": {
   "display_name": "Bash",
   "language": "bash",
   "name": "bash"
  },
  "language_info": {
   "codemirror_mode": "shell",
   "file_extension": ".sh",
   "mimetype": "text/x-sh",
   "name": "bash"
  }
 },
 "nbformat": 4,
 "nbformat_minor": 4
}
