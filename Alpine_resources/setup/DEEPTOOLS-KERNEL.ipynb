{
 "cells": [
  {
   "cell_type": "markdown",
   "metadata": {},
   "source": [
    "Run the following cell to submit a batch job that creates the environment.  *Click on the cell and do CTRL-Return.*"
   ]
  },
  {
   "cell_type": "code",
   "execution_count": 1,
   "metadata": {},
   "outputs": [
    {
     "name": "stdout",
     "output_type": "stream",
     "text": [
      "Submitted batch job 5402433\n"
     ]
    }
   ],
   "source": [
    "sbatch make_jupyter_bash_env.sbatch deeptools_kernel deeptools"
   ]
  },
  {
   "cell_type": "markdown",
   "metadata": {},
   "source": [
    "&nbsp;\n",
    "\n",
    "Run the following cell to see the job in the queue."
   ]
  },
  {
   "cell_type": "code",
   "execution_count": 2,
   "metadata": {},
   "outputs": [
    {
     "name": "stdout",
     "output_type": "stream",
     "text": [
      "             JOBID PARTITION     NAME     USER ST       TIME  NODES NODELIST(REASON)\n",
      "           5402433    amilan create-b dcking@c  R       0:06      1 c3cpu-c15-u1-4\n"
     ]
    }
   ],
   "source": [
    "squeue -u $USER"
   ]
  },
  {
   "cell_type": "markdown",
   "metadata": {},
   "source": [
    "&nbsp;\n",
    "\n",
    "This command shows you your most recent jobs."
   ]
  },
  {
   "cell_type": "code",
   "execution_count": 3,
   "metadata": {},
   "outputs": [
    {
     "name": "stdout",
     "output_type": "stream",
     "text": [
      "JobID           JobName  AllocCPUS      State ExitCode    Elapsed  Timelimit              Submit               Start                 End \n",
      "------------ ---------- ---------- ---------- -------- ---------- ---------- ------------------- ------------------- ------------------- \n",
      "5402378      sys/dashb+          1    RUNNING      0:0   00:13:04   01:00:00 2024-03-15T11:24:16 2024-03-15T11:24:16             Unknown \n",
      "5402433      create-ba+          6    RUNNING      0:0   00:00:46   02:00:00 2024-03-15T11:36:30 2024-03-15T11:36:34             Unknown \n"
     ]
    }
   ],
   "source": [
    "sacct -X --format JobID,JobName,AllocCPUS,State,ExitCode,Elapsed,TimeLimit,Submit,Start,End"
   ]
  },
  {
   "cell_type": "markdown",
   "metadata": {},
   "source": [
    "&nbsp;\n",
    "\n",
    "After running for ~14 minutes, the `State` is completed:"
   ]
  },
  {
   "cell_type": "code",
   "execution_count": 4,
   "metadata": {},
   "outputs": [
    {
     "name": "stdout",
     "output_type": "stream",
     "text": [
      "JobID           JobName  AllocCPUS      State ExitCode    Elapsed  Timelimit              Submit               Start                 End \n",
      "------------ ---------- ---------- ---------- -------- ---------- ---------- ------------------- ------------------- ------------------- \n",
      "5402378      sys/dashb+          1    RUNNING      0:0   00:27:52   01:00:00 2024-03-15T11:24:16 2024-03-15T11:24:16             Unknown \n",
      "5402433      create-ba+          6  COMPLETED      0:0   00:14:04   02:00:00 2024-03-15T11:36:30 2024-03-15T11:36:34 2024-03-15T11:50:38 \n"
     ]
    }
   ],
   "source": [
    "sacct -X --format JobID,JobName,AllocCPUS,State,ExitCode,Elapsed,TimeLimit,Submit,Start,End"
   ]
  },
  {
   "cell_type": "markdown",
   "metadata": {},
   "source": [
    "&nbsp;\n",
    "\n",
    "Now use `conda activate` to load the environment."
   ]
  },
  {
   "cell_type": "code",
   "execution_count": 5,
   "metadata": {},
   "outputs": [],
   "source": [
    "conda activate deeptools_kernel"
   ]
  },
  {
   "cell_type": "markdown",
   "metadata": {},
   "source": [
    "&nbsp;\n",
    "\n",
    "Now use `conda list` to see the packages it installed (a long list):"
   ]
  },
  {
   "cell_type": "code",
   "execution_count": 6,
   "metadata": {
    "collapsed": true,
    "jupyter": {
     "outputs_hidden": true,
     "source_hidden": true
    }
   },
   "outputs": [
    {
     "name": "stdout",
     "output_type": "stream",
     "text": [
      "# packages in environment at /projects/.colostate.edu/dcking/software/anaconda/envs/deeptools_kernel2:\n",
      "#\n",
      "# Name                    Version                   Build  Channel\n",
      "_libgcc_mutex             0.1                 conda_forge    conda-forge\n",
      "_openmp_mutex             4.5                       2_gnu    conda-forge\n",
      "anyio                     4.3.0              pyhd8ed1ab_0    conda-forge\n",
      "argon2-cffi               23.1.0             pyhd8ed1ab_0    conda-forge\n",
      "argon2-cffi-bindings      21.2.0           py38h01eb140_4    conda-forge\n",
      "arrow                     1.3.0              pyhd8ed1ab_0    conda-forge\n",
      "asttokens                 2.4.1              pyhd8ed1ab_0    conda-forge\n",
      "async-lru                 2.0.4              pyhd8ed1ab_0    conda-forge\n",
      "attrs                     23.2.0             pyh71513ae_0    conda-forge\n",
      "babel                     2.14.0             pyhd8ed1ab_0    conda-forge\n",
      "backcall                  0.2.0              pyh9f0ad1d_0    conda-forge\n",
      "bash                      5.2.21               h7f99829_0    conda-forge\n",
      "bash_kernel               0.9.3              pyh4f82c71_0    conda-forge\n",
      "beautifulsoup4            4.12.3             pyha770c72_0    conda-forge\n",
      "bleach                    6.1.0              pyhd8ed1ab_0    conda-forge\n",
      "brotli-python             1.1.0            py38h17151c0_1    conda-forge\n",
      "bzip2                     1.0.8                hd590300_5    conda-forge\n",
      "c-ares                    1.27.0               hd590300_0    conda-forge\n",
      "ca-certificates           2024.2.2             hbcca054_0    conda-forge\n",
      "cached-property           1.5.2                hd8ed1ab_1    conda-forge\n",
      "cached_property           1.5.2              pyha770c72_1    conda-forge\n",
      "certifi                   2024.2.2           pyhd8ed1ab_0    conda-forge\n",
      "cffi                      1.16.0           py38h6d47a40_0    conda-forge\n",
      "charset-normalizer        3.3.2              pyhd8ed1ab_0    conda-forge\n",
      "comm                      0.2.2              pyhd8ed1ab_0    conda-forge\n",
      "cycler                    0.12.1             pyhd8ed1ab_0    conda-forge\n",
      "debugpy                   1.8.1            py38h17151c0_0    conda-forge\n",
      "decorator                 5.1.1              pyhd8ed1ab_0    conda-forge\n",
      "deeptools                 3.5.1              pyhdfd78af_1    bioconda\n",
      "deeptoolsintervals        0.1.9            py38h4c6a040_7    bioconda\n",
      "defusedxml                0.7.1              pyhd8ed1ab_0    conda-forge\n",
      "entrypoints               0.4                pyhd8ed1ab_0    conda-forge\n",
      "exceptiongroup            1.2.0              pyhd8ed1ab_2    conda-forge\n",
      "executing                 2.0.1              pyhd8ed1ab_0    conda-forge\n",
      "fqdn                      1.5.1              pyhd8ed1ab_0    conda-forge\n",
      "freetype                  2.12.1               h267a509_2    conda-forge\n",
      "h11                       0.14.0             pyhd8ed1ab_0    conda-forge\n",
      "h2                        4.1.0            py38h578d9bd_0    conda-forge\n",
      "hpack                     4.0.0              pyh9f0ad1d_0    conda-forge\n",
      "httpcore                  1.0.4              pyhd8ed1ab_0    conda-forge\n",
      "httpx                     0.27.0             pyhd8ed1ab_0    conda-forge\n",
      "hyperframe                6.0.1              pyhd8ed1ab_0    conda-forge\n",
      "icu                       67.1                 he1b5a44_0    conda-forge\n",
      "idna                      3.6                pyhd8ed1ab_0    conda-forge\n",
      "importlib-metadata        7.0.2              pyha770c72_0    conda-forge\n",
      "importlib_metadata        7.0.2                hd8ed1ab_0    conda-forge\n",
      "importlib_resources       6.3.0              pyhd8ed1ab_0    conda-forge\n",
      "ipykernel                 6.29.3             pyhd33586a_0    conda-forge\n",
      "ipython                   8.12.0             pyh41d4057_0    conda-forge\n",
      "isoduration               20.11.0            pyhd8ed1ab_0    conda-forge\n",
      "jedi                      0.19.1             pyhd8ed1ab_0    conda-forge\n",
      "jinja2                    3.1.3              pyhd8ed1ab_0    conda-forge\n",
      "json5                     0.9.22             pyhd8ed1ab_0    conda-forge\n",
      "jsonpointer               2.4              py38h578d9bd_3    conda-forge\n",
      "jsonschema                4.21.1             pyhd8ed1ab_0    conda-forge\n",
      "jsonschema-specifications 2023.12.1          pyhd8ed1ab_0    conda-forge\n",
      "jsonschema-with-format-nongpl 4.21.1             pyhd8ed1ab_0    conda-forge\n",
      "jupyter-lsp               2.2.4              pyhd8ed1ab_0    conda-forge\n",
      "jupyter_client            8.6.1              pyhd8ed1ab_0    conda-forge\n",
      "jupyter_core              5.7.2            py38h578d9bd_0    conda-forge\n",
      "jupyter_events            0.9.1              pyhd8ed1ab_0    conda-forge\n",
      "jupyter_server            2.13.0             pyhd8ed1ab_0    conda-forge\n",
      "jupyter_server_terminals  0.5.3              pyhd8ed1ab_0    conda-forge\n",
      "jupyterlab                4.1.5              pyhd8ed1ab_0    conda-forge\n",
      "jupyterlab_pygments       0.3.0              pyhd8ed1ab_1    conda-forge\n",
      "jupyterlab_server         2.25.4             pyhd8ed1ab_0    conda-forge\n",
      "keyutils                  1.6.1                h166bdaf_0    conda-forge\n",
      "kiwisolver                1.4.5            py38h7f3f72f_1    conda-forge\n",
      "krb5                      1.21.2               h659d440_0    conda-forge\n",
      "ld_impl_linux-64          2.40                 h41732ed_0    conda-forge\n",
      "libblas                   3.9.0           20_linux64_openblas    conda-forge\n",
      "libcblas                  3.9.0           20_linux64_openblas    conda-forge\n",
      "libcurl                   8.5.0                hca28451_0    conda-forge\n",
      "libdeflate                1.18                 h0b41bf4_0    conda-forge\n",
      "libedit                   3.1.20191231         he28a2e2_2    conda-forge\n",
      "libev                     4.33                 hd590300_2    conda-forge\n",
      "libffi                    3.4.2                h7f98852_5    conda-forge\n",
      "libgcc-ng                 13.2.0               h807b86a_5    conda-forge\n",
      "libgfortran-ng            13.2.0               h69a702a_5    conda-forge\n",
      "libgfortran5              13.2.0               ha4646dd_5    conda-forge\n",
      "libgomp                   13.2.0               h807b86a_5    conda-forge\n",
      "liblapack                 3.9.0           20_linux64_openblas    conda-forge\n",
      "libnghttp2                1.58.0               h47da74e_1    conda-forge\n",
      "libnsl                    2.0.1                hd590300_0    conda-forge\n",
      "libopenblas               0.3.25          pthreads_h413a1c8_0    conda-forge\n",
      "libpng                    1.6.43               h2797004_0    conda-forge\n",
      "libsodium                 1.0.18               h36c2ea0_1    conda-forge\n",
      "libsqlite                 3.45.2               h2797004_0    conda-forge\n",
      "libssh2                   1.11.0               h0841786_0    conda-forge\n",
      "libstdcxx-ng              13.2.0               h7e041cc_5    conda-forge\n",
      "libuuid                   2.38.1               h0b41bf4_0    conda-forge\n",
      "libxcrypt                 4.4.36               hd590300_1    conda-forge\n",
      "libzlib                   1.2.13               hd590300_5    conda-forge\n",
      "markupsafe                2.1.5            py38h01eb140_0    conda-forge\n",
      "matplotlib-base           3.2.2            py38h5d868c9_1    conda-forge\n",
      "matplotlib-inline         0.1.6              pyhd8ed1ab_0    conda-forge\n",
      "mistune                   3.0.2              pyhd8ed1ab_0    conda-forge\n",
      "nbclient                  0.10.0             pyhd8ed1ab_0    conda-forge\n",
      "nbconvert-core            7.16.2             pyhd8ed1ab_0    conda-forge\n",
      "nbformat                  5.10.3             pyhd8ed1ab_0    conda-forge\n",
      "ncurses                   6.4                  h59595ed_2    conda-forge\n",
      "nest-asyncio              1.6.0              pyhd8ed1ab_0    conda-forge\n",
      "notebook-shim             0.2.4              pyhd8ed1ab_0    conda-forge\n",
      "numpy                     1.23.5           py38h7042d01_0    conda-forge\n",
      "openssl                   3.2.1                hd590300_0    conda-forge\n",
      "overrides                 7.7.0              pyhd8ed1ab_0    conda-forge\n",
      "packaging                 24.0               pyhd8ed1ab_0    conda-forge\n",
      "pandocfilters             1.5.0              pyhd8ed1ab_0    conda-forge\n",
      "parso                     0.8.3              pyhd8ed1ab_0    conda-forge\n",
      "pexpect                   4.9.0              pyhd8ed1ab_0    conda-forge\n",
      "pickleshare               0.7.5                   py_1003    conda-forge\n",
      "pip                       24.0               pyhd8ed1ab_0    conda-forge\n",
      "pkgutil-resolve-name      1.3.10             pyhd8ed1ab_1    conda-forge\n",
      "platformdirs              4.2.0              pyhd8ed1ab_0    conda-forge\n",
      "plotly                    5.19.0             pyhd8ed1ab_0    conda-forge\n",
      "pooch                     1.8.1              pyhd8ed1ab_0    conda-forge\n",
      "prometheus_client         0.20.0             pyhd8ed1ab_0    conda-forge\n",
      "prompt-toolkit            3.0.42             pyha770c72_0    conda-forge\n",
      "prompt_toolkit            3.0.42               hd8ed1ab_0    conda-forge\n",
      "psutil                    5.9.8            py38h01eb140_0    conda-forge\n",
      "ptyprocess                0.7.0              pyhd3deb0d_0    conda-forge\n",
      "pure_eval                 0.2.2              pyhd8ed1ab_0    conda-forge\n",
      "py2bit                    0.3.0            py38he5da3d1_8    bioconda\n",
      "pybigwig                  0.3.22           py38h5df1436_1    bioconda\n",
      "pycparser                 2.21               pyhd8ed1ab_0    conda-forge\n",
      "pygments                  2.17.2             pyhd8ed1ab_0    conda-forge\n",
      "pyparsing                 3.1.2              pyhd8ed1ab_0    conda-forge\n",
      "pysam                     0.22.0           py38h15b938a_1    bioconda\n",
      "pysocks                   1.7.1              pyha2e5f31_6    conda-forge\n",
      "python                    3.8.18          hd12c33a_1_cpython    conda-forge\n",
      "python-dateutil           2.9.0              pyhd8ed1ab_0    conda-forge\n",
      "python-fastjsonschema     2.19.1             pyhd8ed1ab_0    conda-forge\n",
      "python-json-logger        2.0.7              pyhd8ed1ab_0    conda-forge\n",
      "python_abi                3.8                      4_cp38    conda-forge\n",
      "pytz                      2024.1             pyhd8ed1ab_0    conda-forge\n",
      "pyyaml                    6.0.1            py38h01eb140_1    conda-forge\n",
      "pyzmq                     25.1.2           py38h34c975a_0    conda-forge\n",
      "readline                  8.2                  h8228510_1    conda-forge\n",
      "referencing               0.33.0             pyhd8ed1ab_0    conda-forge\n",
      "requests                  2.31.0             pyhd8ed1ab_0    conda-forge\n",
      "rfc3339-validator         0.1.4              pyhd8ed1ab_0    conda-forge\n",
      "rfc3986-validator         0.1.1              pyh9f0ad1d_0    conda-forge\n",
      "rpds-py                   0.18.0           py38h0cc4f7c_0    conda-forge\n",
      "scipy                     1.10.1           py38h59b608b_3    conda-forge\n",
      "send2trash                1.8.2              pyh41d4057_0    conda-forge\n",
      "setuptools                69.2.0             pyhd8ed1ab_0    conda-forge\n",
      "six                       1.16.0             pyh6c4a22f_0    conda-forge\n",
      "sniffio                   1.3.1              pyhd8ed1ab_0    conda-forge\n",
      "soupsieve                 2.5                pyhd8ed1ab_1    conda-forge\n",
      "stack_data                0.6.2              pyhd8ed1ab_0    conda-forge\n",
      "tenacity                  8.2.3              pyhd8ed1ab_0    conda-forge\n",
      "terminado                 0.18.1             pyh0d859eb_0    conda-forge\n",
      "tinycss2                  1.2.1              pyhd8ed1ab_0    conda-forge\n",
      "tk                        8.6.13          noxft_h4845f30_101    conda-forge\n",
      "tomli                     2.0.1              pyhd8ed1ab_0    conda-forge\n",
      "tornado                   6.4              py38h01eb140_0    conda-forge\n",
      "traitlets                 5.14.2             pyhd8ed1ab_0    conda-forge\n",
      "types-python-dateutil     2.9.0.20240315     pyhd8ed1ab_0    conda-forge\n",
      "typing-extensions         4.10.0               hd8ed1ab_0    conda-forge\n",
      "typing_extensions         4.10.0             pyha770c72_0    conda-forge\n",
      "typing_utils              0.1.0              pyhd8ed1ab_0    conda-forge\n",
      "uri-template              1.3.0              pyhd8ed1ab_0    conda-forge\n",
      "urllib3                   2.2.1              pyhd8ed1ab_0    conda-forge\n",
      "wcwidth                   0.2.13             pyhd8ed1ab_0    conda-forge\n",
      "webcolors                 1.13               pyhd8ed1ab_0    conda-forge\n",
      "webencodings              0.5.1              pyhd8ed1ab_2    conda-forge\n",
      "websocket-client          1.7.0              pyhd8ed1ab_0    conda-forge\n",
      "wheel                     0.42.0             pyhd8ed1ab_0    conda-forge\n",
      "xz                        5.2.6                h166bdaf_0    conda-forge\n",
      "yaml                      0.2.5                h7f98852_2    conda-forge\n",
      "zeromq                    4.3.5                h59595ed_1    conda-forge\n",
      "zipp                      3.17.0             pyhd8ed1ab_0    conda-forge\n",
      "zlib                      1.2.13               hd590300_5    conda-forge\n",
      "zstd                      1.5.5                hfc55251_0    conda-forge\n"
     ]
    }
   ],
   "source": [
    "conda list"
   ]
  },
  {
   "cell_type": "markdown",
   "metadata": {},
   "source": [
    "&nbsp;\n",
    "\n",
    "Crucially, does the command `deeptools` give you a help message."
   ]
  },
  {
   "cell_type": "code",
   "execution_count": 7,
   "metadata": {},
   "outputs": [
    {
     "name": "stdout",
     "output_type": "stream",
     "text": [
      "usage: deeptools [-h] [--version]\n",
      "\n",
      "deepTools is a suite of python tools particularly developed for the efficient analysis of\n",
      "high-throughput sequencing data, such as ChIP-seq, RNA-seq or MNase-seq.\n",
      "\n",
      "Each tool should be called by its own name as in the following example:\n",
      "\n",
      " $ bamCoverage -b reads.bam -o coverage.bw\n",
      "\n",
      "If you find deepTools useful for your research please cite as:\n",
      "\n",
      "Ramírez, Fidel, Devon P. Ryan, Björn Grüning, Vivek Bhardwaj, Fabian Kilpert,\n",
      "Andreas S. Richter, Steffen Heyne, Friederike Dündar,\n",
      "and Thomas Manke. 2016. \"deepTools2: A next Generation Web Server for Deep-Sequencing\n",
      "Data Analysis.\" Nucleic Acids Research, April. doi:10.1093/nar/gkw257.\n",
      "\n",
      "[ Tools for BAM and bigWig file processing ]\n",
      "    multiBamSummary         compute read coverages over bam files. Output used for plotCorrelation or plotPCA\n",
      "    multiBigwigSummary      extract scores from bigwig files. Output used for plotCorrelation or plotPCA\n",
      "    correctGCBias           corrects GC bias from bam file. Don't use it with ChIP data\n",
      "    bamCoverage             computes read coverage per bins or regions\n",
      "    bamCompare              computes log2 ratio and other operations of read coverage of two samples per bins or regions\n",
      "    bigwigCompare           computes log2 ratio and other operations from bigwig scores of two samples per bins or regions\n",
      "    computeMatrix           prepares the data from bigwig scores for plotting with plotHeatmap or plotProfile\n",
      "    alignmentSieve          filters BAM alignments according to specified parameters, optionally producing a BEDPE file\n",
      "\n",
      "[ Tools for QC ]\n",
      "    plotCorrelation         plots heatmaps or scatterplots of data correlation\n",
      "    plotPCA                 plots PCA\n",
      "    plotFingerprint         plots the distribution of enriched regions\n",
      "    bamPEFragmentSize       returns the read length and paired-end distance from a bam file\n",
      "    computeGCBias           computes and plots the GC bias of a sample\n",
      "    plotCoverage            plots a histogram of read coverage\n",
      "    estimateReadFiltering   estimates the number of reads that will be filtered from a BAM file or files given certain criteria\n",
      "\n",
      "[Heatmaps and summary plots]\n",
      "    plotHeatmap             plots one or multiple heatmaps of user selected regions over different genomic scores\n",
      "    plotProfile             plots the average profile of user selected regions over different genomic scores\n",
      "    plotEnrichment          plots the read/fragment coverage of one or more sets of regions\n",
      "\n",
      "[Miscellaneous]\n",
      "    computeMatrixOperations Modifies the output of computeMatrix in a variety of ways.\n",
      "\n",
      "For more information visit: http://deeptools.readthedocs.org\n",
      "\n",
      "optional arguments:\n",
      "  -h, --help  show this help message and exit\n",
      "  --version   show program's version number and exit\n"
     ]
    }
   ],
   "source": [
    "deeptools"
   ]
  },
  {
   "cell_type": "markdown",
   "metadata": {},
   "source": [
    "&nbsp;\n",
    "\n",
    "We should be good to go!!!"
   ]
  }
 ],
 "metadata": {
  "kernelspec": {
   "display_name": "Bash",
   "language": "bash",
   "name": "bash"
  },
  "language_info": {
   "codemirror_mode": "shell",
   "file_extension": ".sh",
   "mimetype": "text/x-sh",
   "name": "bash"
  }
 },
 "nbformat": 4,
 "nbformat_minor": 4
}
